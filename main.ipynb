{
 "cells": [
  {
   "cell_type": "code",
   "execution_count": null,
   "metadata": {},
   "outputs": [],
   "source": [
    "%pip install roboflow --break-system-packages"
   ]
  },
  {
   "cell_type": "code",
   "execution_count": 1,
   "metadata": {},
   "outputs": [],
   "source": [
    "from matplotlib import pyplot as plt\n",
    "from ultralytics import YOLO\n",
    "from roboflow import Roboflow\n",
    "import numpy as np\n",
    "import cv2\n",
    "import os"
   ]
  },
  {
   "cell_type": "code",
   "execution_count": null,
   "metadata": {},
   "outputs": [],
   "source": [
    "rf = Roboflow(api_key=\"xfrYuTKsBzPt4fTpwX0r\")"
   ]
  },
  {
   "cell_type": "code",
   "execution_count": null,
   "metadata": {},
   "outputs": [],
   "source": [
    "model = YOLO(\"model/yolov8s.pt\")\n",
    "# model = YOLO(\"/home/writer/Documents/university/2-3 summer school/yolov5/runs/detect/train20/weights/best.pt\")\n",
    "model.to(\"cuda:0\")"
   ]
  },
  {
   "cell_type": "code",
   "execution_count": null,
   "metadata": {},
   "outputs": [],
   "source": [
    "project = rf.workspace(\"worker-lod8r\").project(\"parking-space-cgi5j\")\n",
    "dataset = project.version(1).download(\"yolov8\")"
   ]
  },
  {
   "cell_type": "code",
   "execution_count": null,
   "metadata": {},
   "outputs": [],
   "source": [
    "model.train(data=f\"./datasets/Parking-Space-1/data.yaml\", epochs=3, workers=8, batch=8)\n",
    "# /home/writer/Documents/university/2-3 summer school/Parking-Space-1/data.yaml"
   ]
  },
  {
   "attachments": {},
   "cell_type": "markdown",
   "metadata": {},
   "source": [
    "# Detection"
   ]
  },
  {
   "cell_type": "code",
   "execution_count": 2,
   "metadata": {},
   "outputs": [],
   "source": [
    "model = YOLO(\"yolov5/runs/detect/train29/weights/best.pt\")\n",
    "model.to(\"cuda:0\")\n",
    "\n",
    "def detect(source):\n",
    "    cap = cv2.VideoCapture(source)\n",
    "    while cap.isOpened():\n",
    "        ret, frame = cap.read()\n",
    "        \n",
    "        # Make detections \n",
    "        # results = model(frame)\n",
    "        results = model.predict(frame)\n",
    "        print(results)\n",
    "        \n",
    "        cv2.imshow('YOLO', np.squeeze(results[0].plot()))\n",
    "        \n",
    "        if cv2.waitKey(10) & 0xFF == ord('q'):\n",
    "            break\n",
    "    cap.release()\n",
    "    cv2.destroyAllWindows()"
   ]
  },
  {
   "attachments": {},
   "cell_type": "markdown",
   "metadata": {},
   "source": [
    "## Real Time Detections"
   ]
  },
  {
   "cell_type": "code",
   "execution_count": null,
   "metadata": {},
   "outputs": [],
   "source": [
    "detect(0)"
   ]
  },
  {
   "attachments": {},
   "cell_type": "markdown",
   "metadata": {},
   "source": [
    "## Video Detection with preview"
   ]
  },
  {
   "cell_type": "code",
   "execution_count": null,
   "metadata": {},
   "outputs": [],
   "source": [
    "detect('./datasets/data/videoplayback.mp4')\n"
   ]
  },
  {
   "cell_type": "code",
   "execution_count": null,
   "metadata": {},
   "outputs": [],
   "source": [
    "!yolo task=detect mode=predict model=yolov5/runs/detect/train29/weights/best.pt conf=0.25 source=./datasets/data/videoplayback.mp4\n"
   ]
  },
  {
   "cell_type": "code",
   "execution_count": null,
   "metadata": {},
   "outputs": [],
   "source": [
    "results = model.predict('/home/writer/Documents/university/2-3 summer school/datasets/data/image-010.jpeg')\n",
    "results = model.predict('/home/writer/Documents/university/2-3 summer school/800px-Cars_in_traffic_in_Auckland,_New_Zealand_-_copyright-free_photo_released_to_public_domain.jpg')\n",
    "# results = model.predict('/home/writer/Documents/university/2-3 summer school/datasets/data/train/images/image-039.jpeg', show=True)\n",
    "# results = model.predict('/home/writer/Documents/university/2-3 summer school/datasets/archive_road_signs/ts/ts/00006.jpg', show=True)\n",
    "# results = model.predict('/home/writer/Documents/university/2-3 summer school/datasets/weapon/valid/images/2-126-_jpg.rf.e7c4d9dafeb680a86f755c7d91faf098.jpg', show=True)\n",
    "# results = model.predict('/home/writer/Documents/university/2-3 summer school/yolov5/runs/detect/val11/val_batch1_pred.jpg', show=True)\n",
    "\n",
    "%matplotlib inline \n",
    "print(len(results))\n",
    "for res in results:\n",
    "    print(dir(res))\n",
    "    print(res.path)\n",
    "    plt.imshow(np.squeeze(res.plot()))\n",
    "    plt.show()"
   ]
  }
 ],
 "metadata": {
  "kernelspec": {
   "display_name": "Python 3",
   "language": "python",
   "name": "python3"
  },
  "language_info": {
   "codemirror_mode": {
    "name": "ipython",
    "version": 3
   },
   "file_extension": ".py",
   "mimetype": "text/x-python",
   "name": "python",
   "nbconvert_exporter": "python",
   "pygments_lexer": "ipython3",
   "version": "3.11.3"
  },
  "orig_nbformat": 4
 },
 "nbformat": 4,
 "nbformat_minor": 2
}
